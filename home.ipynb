{
 "cells": [
  {
   "cell_type": "code",
   "execution_count": 2,
   "metadata": {},
   "outputs": [
    {
     "name": "stderr",
     "output_type": "stream",
     "text": [
      "2024-07-26 17:18:02.244 \n",
      "  \u001b[33m\u001b[1mWarning:\u001b[0m to view this Streamlit app on a browser, run it with the following\n",
      "  command:\n",
      "\n",
      "    streamlit run C:\\Users\\ffran\\AppData\\Roaming\\Python\\Python312\\site-packages\\ipykernel_launcher.py [ARGUMENTS]\n"
     ]
    },
    {
     "data": {
      "text/plain": [
       "DeltaGenerator()"
      ]
     },
     "execution_count": 2,
     "metadata": {},
     "output_type": "execute_result"
    }
   ],
   "source": [
    "import streamlit as st\n",
    "\n",
    "\n",
    "st.sidebar.markdown('Desenvolvido por [Asimov Academy](https://asimov.academy/)')\n",
    "\n",
    "st.markdown('# Bem-vindo ao Analisador de Vendas')\n",
    "\n",
    "st.divider()\n",
    "\n",
    "st.markdown(\n",
    "    '''\n",
    "    Esse projeto foi desenvolvido como projeto final do curso ***Python para Usuários de Excel***.\n",
    "\n",
    "    Utilizaremos três principais bibliotecas para o seu desenvolvimento:\n",
    "\n",
    "    - `pandas`: para manipulação de dados em tabelas\n",
    "    - `plotly`: para geração de gráficos\n",
    "    - `streamlit`: para criação desse webApp interativo que você se encontra nesse momento\n",
    "\n",
    "    Os dados utilizados foram gerados pelo script 'gerador_de_vendas.py' que se encontra junto do código fonte do projeto. Os dados podem ser visualizados na aba de tabelas!\n",
    "\n",
    "    Sugestões podem ser enviadas para o email contato@asimov.academy ou diretamente na nossa [comunidade](https://discord.gg/xsRU2Ay9tA).\n",
    "    '''\n",
    "            )"
   ]
  },
  {
   "cell_type": "code",
   "execution_count": 2,
   "metadata": {},
   "outputs": [],
   "source": [
    "import pyarrow as pa"
   ]
  },
  {
   "cell_type": "code",
   "execution_count": null,
   "metadata": {},
   "outputs": [],
   "source": []
  }
 ],
 "metadata": {
  "kernelspec": {
   "display_name": "Python 3",
   "language": "python",
   "name": "python3"
  },
  "language_info": {
   "codemirror_mode": {
    "name": "ipython",
    "version": 3
   },
   "file_extension": ".py",
   "mimetype": "text/x-python",
   "name": "python",
   "nbconvert_exporter": "python",
   "pygments_lexer": "ipython3",
   "version": "3.12.4"
  }
 },
 "nbformat": 4,
 "nbformat_minor": 2
}
